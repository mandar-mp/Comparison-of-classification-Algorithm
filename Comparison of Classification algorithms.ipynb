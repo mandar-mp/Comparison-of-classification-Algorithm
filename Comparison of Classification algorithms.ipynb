{
 "cells": [
  {
   "cell_type": "code",
   "execution_count": 175,
   "metadata": {},
   "outputs": [],
   "source": [
    "import pandas as pd\n",
    "from sklearn.model_selection import train_test_split\n",
    "from sklearn.tree import DecisionTreeClassifier\n",
    "from sklearn.tree import export_graphviz\n",
    "from sklearn.ensemble import RandomForestClassifier\n",
    "from sklearn.linear_model import LogisticRegression\n",
    "from sklearn.naive_bayes import GaussianNB, BernoulliNB, MultinomialNB\n",
    "from sklearn.svm import SVC\n",
    "from sklearn.metrics import accuracy_score\n",
    "from sklearn.metrics import confusion_matrix\n",
    "import graphviz"
   ]
  },
  {
   "cell_type": "code",
   "execution_count": 142,
   "metadata": {},
   "outputs": [],
   "source": [
    "#Read csv\n",
    "bankdata=pd.read_csv('bankdata/bank-additional/bank-additional/bank-additional-full.csv',delimiter=';')\n"
   ]
  },
  {
   "cell_type": "code",
   "execution_count": 143,
   "metadata": {},
   "outputs": [
    {
     "data": {
      "text/plain": [
       "Index(['age', 'job', 'marital', 'education', 'default', 'housing', 'loan',\n",
       "       'contact', 'month', 'day_of_week', 'duration', 'campaign', 'pdays',\n",
       "       'previous', 'poutcome', 'emp.var.rate', 'cons.price.idx',\n",
       "       'cons.conf.idx', 'euribor3m', 'nr.employed', 'y'],\n",
       "      dtype='object')"
      ]
     },
     "execution_count": 143,
     "metadata": {},
     "output_type": "execute_result"
    }
   ],
   "source": [
    "#Explore columns\n",
    "bankdata.columns"
   ]
  },
  {
   "cell_type": "code",
   "execution_count": 144,
   "metadata": {},
   "outputs": [
    {
     "data": {
      "text/html": [
       "<div>\n",
       "<style scoped>\n",
       "    .dataframe tbody tr th:only-of-type {\n",
       "        vertical-align: middle;\n",
       "    }\n",
       "\n",
       "    .dataframe tbody tr th {\n",
       "        vertical-align: top;\n",
       "    }\n",
       "\n",
       "    .dataframe thead th {\n",
       "        text-align: right;\n",
       "    }\n",
       "</style>\n",
       "<table border=\"1\" class=\"dataframe\">\n",
       "  <thead>\n",
       "    <tr style=\"text-align: right;\">\n",
       "      <th></th>\n",
       "      <th>age</th>\n",
       "      <th>job</th>\n",
       "      <th>marital</th>\n",
       "      <th>education</th>\n",
       "      <th>default</th>\n",
       "      <th>housing</th>\n",
       "      <th>loan</th>\n",
       "      <th>contact</th>\n",
       "      <th>month</th>\n",
       "      <th>day_of_week</th>\n",
       "      <th>...</th>\n",
       "      <th>campaign</th>\n",
       "      <th>pdays</th>\n",
       "      <th>previous</th>\n",
       "      <th>poutcome</th>\n",
       "      <th>emp.var.rate</th>\n",
       "      <th>cons.price.idx</th>\n",
       "      <th>cons.conf.idx</th>\n",
       "      <th>euribor3m</th>\n",
       "      <th>nr.employed</th>\n",
       "      <th>y</th>\n",
       "    </tr>\n",
       "  </thead>\n",
       "  <tbody>\n",
       "    <tr>\n",
       "      <th>0</th>\n",
       "      <td>56</td>\n",
       "      <td>housemaid</td>\n",
       "      <td>married</td>\n",
       "      <td>basic.4y</td>\n",
       "      <td>no</td>\n",
       "      <td>no</td>\n",
       "      <td>no</td>\n",
       "      <td>telephone</td>\n",
       "      <td>may</td>\n",
       "      <td>mon</td>\n",
       "      <td>...</td>\n",
       "      <td>1</td>\n",
       "      <td>999</td>\n",
       "      <td>0</td>\n",
       "      <td>nonexistent</td>\n",
       "      <td>1.1</td>\n",
       "      <td>93.994</td>\n",
       "      <td>-36.4</td>\n",
       "      <td>4.857</td>\n",
       "      <td>5191.0</td>\n",
       "      <td>no</td>\n",
       "    </tr>\n",
       "    <tr>\n",
       "      <th>1</th>\n",
       "      <td>57</td>\n",
       "      <td>services</td>\n",
       "      <td>married</td>\n",
       "      <td>high.school</td>\n",
       "      <td>unknown</td>\n",
       "      <td>no</td>\n",
       "      <td>no</td>\n",
       "      <td>telephone</td>\n",
       "      <td>may</td>\n",
       "      <td>mon</td>\n",
       "      <td>...</td>\n",
       "      <td>1</td>\n",
       "      <td>999</td>\n",
       "      <td>0</td>\n",
       "      <td>nonexistent</td>\n",
       "      <td>1.1</td>\n",
       "      <td>93.994</td>\n",
       "      <td>-36.4</td>\n",
       "      <td>4.857</td>\n",
       "      <td>5191.0</td>\n",
       "      <td>no</td>\n",
       "    </tr>\n",
       "    <tr>\n",
       "      <th>2</th>\n",
       "      <td>37</td>\n",
       "      <td>services</td>\n",
       "      <td>married</td>\n",
       "      <td>high.school</td>\n",
       "      <td>no</td>\n",
       "      <td>yes</td>\n",
       "      <td>no</td>\n",
       "      <td>telephone</td>\n",
       "      <td>may</td>\n",
       "      <td>mon</td>\n",
       "      <td>...</td>\n",
       "      <td>1</td>\n",
       "      <td>999</td>\n",
       "      <td>0</td>\n",
       "      <td>nonexistent</td>\n",
       "      <td>1.1</td>\n",
       "      <td>93.994</td>\n",
       "      <td>-36.4</td>\n",
       "      <td>4.857</td>\n",
       "      <td>5191.0</td>\n",
       "      <td>no</td>\n",
       "    </tr>\n",
       "    <tr>\n",
       "      <th>3</th>\n",
       "      <td>40</td>\n",
       "      <td>admin.</td>\n",
       "      <td>married</td>\n",
       "      <td>basic.6y</td>\n",
       "      <td>no</td>\n",
       "      <td>no</td>\n",
       "      <td>no</td>\n",
       "      <td>telephone</td>\n",
       "      <td>may</td>\n",
       "      <td>mon</td>\n",
       "      <td>...</td>\n",
       "      <td>1</td>\n",
       "      <td>999</td>\n",
       "      <td>0</td>\n",
       "      <td>nonexistent</td>\n",
       "      <td>1.1</td>\n",
       "      <td>93.994</td>\n",
       "      <td>-36.4</td>\n",
       "      <td>4.857</td>\n",
       "      <td>5191.0</td>\n",
       "      <td>no</td>\n",
       "    </tr>\n",
       "    <tr>\n",
       "      <th>4</th>\n",
       "      <td>56</td>\n",
       "      <td>services</td>\n",
       "      <td>married</td>\n",
       "      <td>high.school</td>\n",
       "      <td>no</td>\n",
       "      <td>no</td>\n",
       "      <td>yes</td>\n",
       "      <td>telephone</td>\n",
       "      <td>may</td>\n",
       "      <td>mon</td>\n",
       "      <td>...</td>\n",
       "      <td>1</td>\n",
       "      <td>999</td>\n",
       "      <td>0</td>\n",
       "      <td>nonexistent</td>\n",
       "      <td>1.1</td>\n",
       "      <td>93.994</td>\n",
       "      <td>-36.4</td>\n",
       "      <td>4.857</td>\n",
       "      <td>5191.0</td>\n",
       "      <td>no</td>\n",
       "    </tr>\n",
       "  </tbody>\n",
       "</table>\n",
       "<p>5 rows × 21 columns</p>\n",
       "</div>"
      ],
      "text/plain": [
       "   age        job  marital    education  default housing loan    contact  \\\n",
       "0   56  housemaid  married     basic.4y       no      no   no  telephone   \n",
       "1   57   services  married  high.school  unknown      no   no  telephone   \n",
       "2   37   services  married  high.school       no     yes   no  telephone   \n",
       "3   40     admin.  married     basic.6y       no      no   no  telephone   \n",
       "4   56   services  married  high.school       no      no  yes  telephone   \n",
       "\n",
       "  month day_of_week  ...  campaign  pdays  previous     poutcome emp.var.rate  \\\n",
       "0   may         mon  ...         1    999         0  nonexistent          1.1   \n",
       "1   may         mon  ...         1    999         0  nonexistent          1.1   \n",
       "2   may         mon  ...         1    999         0  nonexistent          1.1   \n",
       "3   may         mon  ...         1    999         0  nonexistent          1.1   \n",
       "4   may         mon  ...         1    999         0  nonexistent          1.1   \n",
       "\n",
       "   cons.price.idx  cons.conf.idx  euribor3m  nr.employed   y  \n",
       "0          93.994          -36.4      4.857       5191.0  no  \n",
       "1          93.994          -36.4      4.857       5191.0  no  \n",
       "2          93.994          -36.4      4.857       5191.0  no  \n",
       "3          93.994          -36.4      4.857       5191.0  no  \n",
       "4          93.994          -36.4      4.857       5191.0  no  \n",
       "\n",
       "[5 rows x 21 columns]"
      ]
     },
     "execution_count": 144,
     "metadata": {},
     "output_type": "execute_result"
    }
   ],
   "source": [
    "#Explore data\n",
    "bankdata.head()"
   ]
  },
  {
   "cell_type": "code",
   "execution_count": 145,
   "metadata": {},
   "outputs": [
    {
     "name": "stdout",
     "output_type": "stream",
     "text": [
      "['may' 'jun' 'jul' 'aug' 'oct' 'nov' 'dec' 'mar' 'apr' 'sep']\n"
     ]
    }
   ],
   "source": [
    "#Explore column values\n",
    "array=bankdata['job'].unique()\n",
    "array=bankdata['month'].unique()\n",
    "print(array)"
   ]
  },
  {
   "cell_type": "code",
   "execution_count": 146,
   "metadata": {},
   "outputs": [
    {
     "data": {
      "text/plain": [
       "Index(['age', 'campaign', 'previous', 'emp.var.rate', 'cons.price.idx',\n",
       "       'cons.conf.idx', 'euribor3m', 'nr.employed', 'y', 'contact_cellular',\n",
       "       'contact_telephone', 'marital_divorced', 'marital_married',\n",
       "       'marital_single', 'marital_unknown', 'job_admin.', 'job_blue-collar',\n",
       "       'job_entrepreneur', 'job_housemaid', 'job_management', 'job_retired',\n",
       "       'job_self-employed', 'job_services', 'job_student', 'job_technician',\n",
       "       'job_unemployed', 'job_unknown', 'default_no', 'default_unknown',\n",
       "       'default_yes', 'housing_no', 'housing_unknown', 'housing_yes',\n",
       "       'loan_no', 'loan_unknown', 'loan_yes', 'poutcome_failure',\n",
       "       'poutcome_nonexistent', 'poutcome_success'],\n",
       "      dtype='object')"
      ]
     },
     "execution_count": 146,
     "metadata": {},
     "output_type": "execute_result"
    }
   ],
   "source": [
    "#Create feature set. convert categorical values into numbers\n",
    "featureSet=bankdata\n",
    "#drop these column for now\n",
    "featureSet=featureSet.drop(['education','month','day_of_week','duration','pdays',],axis=1)\n",
    "\n",
    "contact_dummy=pd.get_dummies(bankdata['contact'],prefix='contact')\n",
    "marital_dummy=pd.get_dummies(bankdata['marital'],prefix='marital')\n",
    "job_dummy=pd.get_dummies(bankdata['job'],prefix='job')\n",
    "default_dummy=pd.get_dummies(bankdata['default'],prefix='default')\n",
    "housing_dummy=pd.get_dummies(bankdata['housing'],prefix='housing')\n",
    "loan_dummy=pd.get_dummies(bankdata['loan'],prefix='loan')\n",
    "poutcome_dummy=pd.get_dummies(bankdata['poutcome'],prefix='poutcome')\n",
    "featureSet=pd.concat([featureSet,contact_dummy,marital_dummy,job_dummy,default_dummy,\n",
    "                      housing_dummy,loan_dummy,poutcome_dummy],axis=1)\n",
    "\n",
    "featureSet=featureSet.drop(['contact','marital','job','default','housing','loan','poutcome'],axis=1)\n",
    "featureSet.columns"
   ]
  },
  {
   "cell_type": "code",
   "execution_count": 147,
   "metadata": {},
   "outputs": [
    {
     "name": "stdout",
     "output_type": "stream",
     "text": [
      "size= (41188, 39)\n",
      "(41188, 38) (41188, 1)\n",
      "(28831, 38) (12357, 38) (28831, 1) (12357, 1)\n"
     ]
    }
   ],
   "source": [
    "#create train , test data\n",
    "print('size=',featureSet.shape)\n",
    "X=featureSet\n",
    "X=X.drop('y',axis=1)\n",
    "Y=pd.DataFrame(featureSet['y'])\n",
    "Y=pd.get_dummies(Y['y'],prefix='target')\n",
    "Y=Y.drop('target_no',axis=1)\n",
    "print(X.shape,Y.shape)\n",
    "X_train, X_test, y_train, y_test = train_test_split( X, Y, test_size=0.3, random_state=42)\n",
    "print(X_train.shape,X_test.shape,y_train.shape,y_test.shape)\n",
    "\n"
   ]
  },
  {
   "cell_type": "code",
   "execution_count": 190,
   "metadata": {},
   "outputs": [
    {
     "name": "stdout",
     "output_type": "stream",
     "text": [
      "score= 0.899490167516\n",
      "train acc_score= 0.899171031182\n",
      "test acc_score= 0.899490167516\n",
      "cnt= 11115\n",
      "total score= 0.8994901675163874\n",
      "confusion matrix= [[10872    96]\n",
      " [ 1146   243]]\n"
     ]
    },
    {
     "name": "stderr",
     "output_type": "stream",
     "text": [
      "C:\\Users\\mandar.m.patil\\AppData\\Local\\Continuum\\anaconda3\\lib\\site-packages\\sklearn\\tree\\export.py:399: DeprecationWarning: out_file can be set to None starting from 0.18. This will be the default in 0.20.\n",
      "  DeprecationWarning)\n"
     ]
    },
    {
     "data": {
      "text/plain": [
       "<bound method File.render of <graphviz.files.Source object at 0x0000020F2734BAC8>>"
      ]
     },
     "execution_count": 190,
     "metadata": {},
     "output_type": "execute_result"
    }
   ],
   "source": [
    "#Decision Tree\n",
    "dtc=DecisionTreeClassifier(max_depth=2)\n",
    "dtc.fit(X_train,y_train)\n",
    "predictedOutput=dtc.predict(X_test)\n",
    "train_pred_output=dtc.predict(X_train)\n",
    "print('score=',dtc.score(X_test,y_test))\n",
    "print('train acc_score=',accuracy_score(y_train,train_pred_output))\n",
    "print('test acc_score=',accuracy_score(y_test,predictedOutput))\n",
    "cnt=0\n",
    "for a,b in zip (y_test.target_yes,predictedOutput):\n",
    "#     print(a,b)\n",
    "    if a==b:\n",
    "        cnt=cnt+1\n",
    "print('cnt=',cnt)\n",
    "print('total score=',cnt/12357)\n",
    "\n",
    "print('confusion matrix=',confusion_matrix(y_test,predictedOutput))\n",
    "\n",
    "# dot_data = export_graphviz(dtc,feature_names=X_train.columns)  \n",
    "# graph = graphviz.Source(dot_data)  \n",
    "# graph.render"
   ]
  },
  {
   "cell_type": "code",
   "execution_count": 149,
   "metadata": {},
   "outputs": [
    {
     "name": "stderr",
     "output_type": "stream",
     "text": [
      "C:\\Users\\mandar.m.patil\\AppData\\Local\\Continuum\\anaconda3\\lib\\site-packages\\ipykernel_launcher.py:3: DataConversionWarning: A column-vector y was passed when a 1d array was expected. Please change the shape of y to (n_samples,), for example using ravel().\n",
      "  This is separate from the ipykernel package so we can avoid doing imports until\n"
     ]
    },
    {
     "name": "stdout",
     "output_type": "stream",
     "text": [
      "score= 0.888160556769\n",
      "acc_score= 0.888160556769\n",
      "cnt= 10975\n",
      "total score= 0.8881605567694424\n",
      "confusion matrix= [[10596   372]\n",
      " [ 1010   379]]\n"
     ]
    }
   ],
   "source": [
    "#Random Forest\n",
    "rfc=RandomForestClassifier(max_depth=100)\n",
    "rfc.fit(X_train,y_train)\n",
    "rfcPredictedOutput=rfc.predict(X_test)\n",
    "print('score=',rfc.score(X_test,y_test))\n",
    "print('acc_score=',accuracy_score(y_test,rfcPredictedOutput))\n",
    "cnt=0\n",
    "for a,b in zip (y_test.target_yes,rfcPredictedOutput):\n",
    "#     print(a,b)\n",
    "    if a==b:\n",
    "        cnt=cnt+1\n",
    "print('cnt=',cnt)\n",
    "print('total score=',cnt/12357)\n",
    "\n",
    "print('confusion matrix=',confusion_matrix(y_test,rfcPredictedOutput))"
   ]
  },
  {
   "cell_type": "code",
   "execution_count": 150,
   "metadata": {},
   "outputs": [
    {
     "name": "stderr",
     "output_type": "stream",
     "text": [
      "C:\\Users\\mandar.m.patil\\AppData\\Local\\Continuum\\anaconda3\\lib\\site-packages\\sklearn\\utils\\validation.py:578: DataConversionWarning: A column-vector y was passed when a 1d array was expected. Please change the shape of y to (n_samples, ), for example using ravel().\n",
      "  y = column_or_1d(y, warn=True)\n"
     ]
    },
    {
     "name": "stdout",
     "output_type": "stream",
     "text": [
      "score= 0.89592943271\n",
      "acc_score= 0.89592943271\n",
      "cnt= 11071\n",
      "total score= 0.8959294327102048\n",
      "confusion matrix= [[10793   175]\n",
      " [ 1111   278]]\n"
     ]
    }
   ],
   "source": [
    "#Support Vector machine.(Support Vector Classifier)\n",
    "svc = SVC(gamma='auto')\n",
    "svc.fit(X_train,y_train)\n",
    "svcPredictedOutput=svc.predict(X_test)\n",
    "print('score=',svc.score(X_test,y_test))\n",
    "print('acc_score=',accuracy_score(y_test,svcPredictedOutput))\n",
    "cnt=0\n",
    "for a,b in zip (y_test.target_yes,svcPredictedOutput):\n",
    "#     print(a,b)\n",
    "    if a==b:\n",
    "        cnt=cnt+1\n",
    "print('cnt=',cnt)\n",
    "print('total score=',cnt/12357)\n",
    "\n",
    "print('confusion matrix=',confusion_matrix(y_test,svcPredictedOutput))"
   ]
  },
  {
   "cell_type": "code",
   "execution_count": 151,
   "metadata": {},
   "outputs": [
    {
     "name": "stderr",
     "output_type": "stream",
     "text": [
      "C:\\Users\\mandar.m.patil\\AppData\\Local\\Continuum\\anaconda3\\lib\\site-packages\\sklearn\\utils\\validation.py:578: DataConversionWarning: A column-vector y was passed when a 1d array was expected. Please change the shape of y to (n_samples, ), for example using ravel().\n",
      "  y = column_or_1d(y, warn=True)\n"
     ]
    },
    {
     "name": "stdout",
     "output_type": "stream",
     "text": [
      "score= 0.898276280651\n",
      "acc_score= 0.898276280651\n",
      "cnt= 11100\n",
      "total score= 0.8982762806506434\n",
      "confusion matrix= [[10838   130]\n",
      " [ 1127   262]]\n"
     ]
    }
   ],
   "source": [
    "#Logistic Regression\n",
    "lr=LogisticRegression()\n",
    "lr.fit(X_train,y_train)\n",
    "lrPredictedOutput=lr.predict(X_test)\n",
    "print('score=',lr.score(X_test,y_test))\n",
    "print('acc_score=',accuracy_score(y_test,lrPredictedOutput))\n",
    "cnt=0\n",
    "for a,b in zip (y_test.target_yes,lrPredictedOutput):\n",
    "#     print(a,b)\n",
    "    if a==b:\n",
    "        cnt=cnt+1\n",
    "print('cnt=',cnt)\n",
    "print('total score=',cnt/12357)\n",
    "\n",
    "print('confusion matrix=',confusion_matrix(y_test,lrPredictedOutput))"
   ]
  },
  {
   "cell_type": "code",
   "execution_count": 152,
   "metadata": {},
   "outputs": [
    {
     "name": "stdout",
     "output_type": "stream",
     "text": [
      "score= 0.898276280651\n",
      "acc_score= 0.776078336166\n",
      "cnt= 9590\n",
      "total score= 0.7760783361657361\n",
      "confusion matrix= [[8723 2245]\n",
      " [ 522  867]]\n"
     ]
    },
    {
     "name": "stderr",
     "output_type": "stream",
     "text": [
      "C:\\Users\\mandar.m.patil\\AppData\\Local\\Continuum\\anaconda3\\lib\\site-packages\\sklearn\\utils\\validation.py:578: DataConversionWarning: A column-vector y was passed when a 1d array was expected. Please change the shape of y to (n_samples, ), for example using ravel().\n",
      "  y = column_or_1d(y, warn=True)\n"
     ]
    }
   ],
   "source": [
    "#naive bayes gaussian\n",
    "gnb = GaussianNB()\n",
    "gnb.fit(X_train,y_train)\n",
    "gnbPredictedOutput=gnb.predict(X_test)\n",
    "print('score=',lr.score(X_test,y_test))\n",
    "print('acc_score=',accuracy_score(y_test,gnbPredictedOutput))\n",
    "cnt=0\n",
    "for a,b in zip (y_test.target_yes,gnbPredictedOutput):\n",
    "#     print(a,b)\n",
    "    if a==b:\n",
    "        cnt=cnt+1\n",
    "print('cnt=',cnt)\n",
    "print('total score=',cnt/12357)\n",
    "\n",
    "print('confusion matrix=',confusion_matrix(y_test,gnbPredictedOutput))"
   ]
  }
 ],
 "metadata": {
  "kernelspec": {
   "display_name": "Python 3",
   "language": "python",
   "name": "python3"
  },
  "language_info": {
   "codemirror_mode": {
    "name": "ipython",
    "version": 3
   },
   "file_extension": ".py",
   "mimetype": "text/x-python",
   "name": "python",
   "nbconvert_exporter": "python",
   "pygments_lexer": "ipython3",
   "version": "3.6.3"
  }
 },
 "nbformat": 4,
 "nbformat_minor": 2
}
